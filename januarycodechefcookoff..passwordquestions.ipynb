{
 "cells": [
  {
   "cell_type": "markdown",
   "metadata": {},
   "source": [
    "Chef is planning to setup a secure password for his Codechef account. For a password to be secure the following conditions should be satisfied:\n",
    "\n",
    "1) Password must contain at least one lower case letter $[a-z]$;\n",
    "\n",
    "2) Password must contain at least one upper case letter $[A-Z]$ strictly inside, i.e. not as the first or the last character;\n",
    "\n",
    "3) Password must contain at least one digit $[0-9]$ strictly inside;\n",
    "\n",
    "4) Password must contain at least one special character from the set $\\{$ '@', '#', '%', '&', '?' $\\}$ strictly inside;\n",
    "\n",
    "5) Password must be at least $10$ characters in length, but it can be longer.\n",
    "\n",
    "Chef has generated several strings and now wants you to check whether the passwords are secure based on the above criteria. Please help Chef in doing so.\n"
   ]
  },
  {
   "cell_type": "code",
   "execution_count": 1,
   "metadata": {},
   "outputs": [
    {
     "name": "stdout",
     "output_type": "stream",
     "text": [
      "5\n",
      "kajshiai\n",
      "NO\n",
      "#pooiie0W\n",
      "NO\n",
      "ldop#$jjjKo990\n",
      "YES\n",
      "shiuhiuiujhiuiu\n",
      "NO\n",
      "moijoi\n",
      "NO\n"
     ]
    }
   ],
   "source": [
    "# cook your dish here\n",
    "testcase=int(input())\n",
    "lower=\"abcdefghijklmnopqrstuvwxyz\"\n",
    "upper=\"ABCDEFGHIJKLMNOPQRSTUVWXYZ\"\n",
    "number=\"0123456789\"\n",
    "special=\"@#%&?\"\n",
    "while testcase:\n",
    "          string=input()\n",
    "          l=0\n",
    "          u=0\n",
    "          n=0\n",
    "          s=0\n",
    "          if len(string)<10:\n",
    "                    print(\"NO\")\n",
    "                    testcase-=1\n",
    "                    continue\n",
    "          else:\n",
    "                    for a in string[1:-1]:\n",
    "                              if a in upper:\n",
    "                                        u+=1\n",
    "                              elif a in number:\n",
    "                                        n+=1\n",
    "                              elif a in special:\n",
    "                                        s+=1\n",
    "                              \n",
    "                    for a in string:\n",
    "                              if a in lower:\n",
    "                                        l+=1\n",
    "          if l>0 and u>0 and n>0 and s>0:\n",
    "                    print(\"YES\")\n",
    "          else:\n",
    "                    print(\"NO\")\n",
    "          testcase-=1\n",
    "                              "
   ]
  },
  {
   "cell_type": "markdown",
   "metadata": {},
   "source": []
  }
 ],
 "metadata": {
  "kernelspec": {
   "display_name": "Python 3",
   "language": "python",
   "name": "python3"
  },
  "language_info": {
   "codemirror_mode": {
    "name": "ipython",
    "version": 3
   },
   "file_extension": ".py",
   "mimetype": "text/x-python",
   "name": "python",
   "nbconvert_exporter": "python",
   "pygments_lexer": "ipython3",
   "version": "3.7.4"
  }
 },
 "nbformat": 4,
 "nbformat_minor": 2
}
